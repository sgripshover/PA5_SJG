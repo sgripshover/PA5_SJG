{
 "cells": [
  {
   "cell_type": "markdown",
   "id": "d7c3a380-639f-4140-acc6-6112deabbd57",
   "metadata": {},
   "source": [
    "# Programming Assignment 5\n",
    "---\n",
    "**Author:** Savannah Gripshover \n",
    "**Version:** 1.0  \n",
    "**Semester:** Spring 2024 \n",
    "\n",
    "This *notebook* contains my solution(s) to **Programming Assignment 5**"
   ]
  },
  {
   "cell_type": "markdown",
   "id": "d7e95468-6d41-4812-8930-ff0d9f946309",
   "metadata": {},
   "source": [
    "### Problem 1 - Language Translator"
   ]
  },
  {
   "cell_type": "code",
   "execution_count": 2,
   "id": "cd2560b0-310e-4643-a240-0c6d270ce84f",
   "metadata": {
    "tags": []
   },
   "outputs": [
    {
     "name": "stdout",
     "output_type": "stream",
     "text": [
      "Enter the word you want to translate from English to Dutch (enter 0 to stop):\n"
     ]
    },
    {
     "name": "stdin",
     "output_type": "stream",
     "text": [
      " 0\n"
     ]
    }
   ],
   "source": [
    "translation_dict = {\n",
    "    'chair': 'stoel',\n",
    "    'man': 'man',\n",
    "    'woman': 'vrouw',\n",
    "    'bear': 'beer',\n",
    "    'cat': 'kat',\n",
    "    'dog': 'hond',\n",
    "}\n",
    "\n",
    "def translate_to_dutch(word):\n",
    "    if word.lower() in translation_dict:\n",
    "        return translation_dict[word.lower()]\n",
    "    else:\n",
    "        return f\"The Dutch word for {word.upper()} is not in this dictionary.\"\n",
    "\n",
    "print(\"Enter the word you want to translate from English to Dutch (enter 0 to stop):\")\n",
    "while True:\n",
    "    word = input()\n",
    "    if word == '0':\n",
    "        break\n",
    "    else:\n",
    "        translation = translate_to_dutch(word)\n",
    "        print(translation)"
   ]
  },
  {
   "cell_type": "markdown",
   "id": "f55a861e-bbf1-4742-b032-0dd99731df02",
   "metadata": {},
   "source": [
    "### Problem 2 - Training Morse Code"
   ]
  },
  {
   "cell_type": "code",
   "execution_count": 4,
   "id": "37f420e1-b83e-4ee6-ac9c-8722152fbb65",
   "metadata": {
    "tags": []
   },
   "outputs": [],
   "source": [
    "morse_code_dict = {\n",
    "    'A': '.-', 'B': '-...', 'C': '-.-.', 'D': '-..', 'E': '.', 'F': '..-.', 'G': '--.', 'H': '....',\n",
    "    'I': '..', 'J': '.---', 'K': '-.-', 'L': '.-..', 'M': '--', 'N': '-.', 'O': '---', 'P': '.--.',\n",
    "    'Q': '--.-', 'R': '.-.', 'S': '...', 'T': '-', 'U': '..-', 'V': '...-', 'W': '.--', 'X': '-..-',\n",
    "    'Y': '-.--', 'Z': '--..',\n",
    "    '0': '-----', '1': '.----', '2': '..---', '3': '...--', '4': '....-', '5': '.....',\n",
    "    '6': '-....', '7': '--...', '8': '---..', '9': '----.',\n",
    "}"
   ]
  },
  {
   "cell_type": "code",
   "execution_count": 5,
   "id": "88852c62-1ae2-4f7f-bd17-db4ebfd1cbd4",
   "metadata": {
    "tags": []
   },
   "outputs": [],
   "source": [
    "def translate_to_morse(sentence):\n",
    "    morse_translation = \"\"\n",
    "    for char in sentence:\n",
    "        if char.upper() in morse_code_dict:\n",
    "            morse_translation += morse_code_dict[char.upper()] + \" \"\n",
    "        elif char == ' ':\n",
    "            morse_translation += \"/ \"\n",
    "    return morse_translation.strip()"
   ]
  },
  {
   "cell_type": "code",
   "execution_count": 6,
   "id": "150a5e65-5dee-45bb-90da-c8aca1fd6f7d",
   "metadata": {
    "tags": []
   },
   "outputs": [
    {
     "name": "stdout",
     "output_type": "stream",
     "text": [
      "Enter a sentence to translate to Morse code (enter 'q' to quit):\n"
     ]
    },
    {
     "name": "stdin",
     "output_type": "stream",
     "text": [
      " hello\n"
     ]
    },
    {
     "name": "stdout",
     "output_type": "stream",
     "text": [
      "Morse Code Translation: .... . .-.. .-.. ---\n"
     ]
    },
    {
     "name": "stdin",
     "output_type": "stream",
     "text": [
      " beep boop\n"
     ]
    },
    {
     "name": "stdout",
     "output_type": "stream",
     "text": [
      "Morse Code Translation: -... . . .--. / -... --- --- .--.\n"
     ]
    },
    {
     "name": "stdin",
     "output_type": "stream",
     "text": [
      " q\n"
     ]
    }
   ],
   "source": [
    "print(\"Enter a sentence to translate to Morse code (enter 'q' to quit):\")\n",
    "while True:\n",
    "    sentence = input().strip()\n",
    "    if sentence.lower() == 'q':\n",
    "        break\n",
    "    else:\n",
    "        morse_translation = translate_to_morse(sentence)\n",
    "        print(\"Morse Code Translation:\", morse_translation)"
   ]
  },
  {
   "cell_type": "markdown",
   "id": "b25d6742-5c8d-4dcc-a878-1b46d82337bf",
   "metadata": {},
   "source": [
    "BUSA 103, 203, 301, and 305### Problem 3 - Comparing Majors/Minors"
   ]
  },
  {
   "cell_type": "code",
   "execution_count": 7,
   "id": "5914e4de-bf91-46e5-a457-a025f12c6027",
   "metadata": {
    "tags": []
   },
   "outputs": [
    {
     "name": "stdout",
     "output_type": "stream",
     "text": [
      "Overlapping courses between Business Administration and Business Analytics minors: {'BUSA 103'}\n",
      "All courses required for minoring in Business Administration and Computer Science: {'CS 100', 'CS 215', 'BUSA 301', 'FINA 315', 'MATH 125', 'BUSA 305', 'ECON 110', 'CS400', 'BUSA 203', 'CS 131', 'ACCT 101', 'BUSA 103'}\n",
      "Courses in Business Administration minor but not in Business Analytics minor: {'BUSA 301', 'FINA 315', 'MATH 125', 'BUSA 305', 'ECON 110', 'BUSA 203', 'ACCT 101'}\n",
      "Overlapping courses between Computer Science major and Data Science major: set()\n",
      "Is Business Analytics minor completely subsumed by Data Science major? True\n"
     ]
    }
   ],
   "source": [
    "cs_minor_courses = {'CS 100', 'CS 131', 'CS 215', 'CS400'}\n",
    "ba_minor_courses = {'BUSA 103', 'BUSA 203', 'BUSA 301', 'BUSA 305', 'ACCT 101', 'ECON 110', 'FINA 315', 'MATH 125' }\n",
    "ba_analytics_minor_courses = {'BUSA 103', 'BUSA 245', 'BUSA 346', 'CS 150', 'DS 160', 'DS 300'}\n",
    "ds_major_courses = {'BUSA 103', 'BUSA 245', 'BUSA 346', 'CS 150', 'DS 160', 'DS 300', 'DS 450', 'MATH 205', 'MATH 215', 'MATH 430', 'ECON 410'}\n",
    "\n",
    "overlap_courses = ba_minor_courses.intersection(ba_analytics_minor_courses)\n",
    "print(\"Overlapping courses between Business Administration and Business Analytics minors:\", overlap_courses)\n",
    "\n",
    "all_courses_required = ba_minor_courses.union(cs_minor_courses)\n",
    "print(\"All courses required for minoring in Business Administration and Computer Science:\", all_courses_required)\n",
    "\n",
    "ba_not_in_analytics = ba_minor_courses.difference(ba_analytics_minor_courses)\n",
    "print(\"Courses in Business Administration minor but not in Business Analytics minor:\", ba_not_in_analytics)\n",
    "\n",
    "cs_ds_overlap = cs_minor_courses.intersection(ds_major_courses)\n",
    "print(\"Overlapping courses between Computer Science major and Data Science major:\", cs_ds_overlap)\n",
    "\n",
    "ba_analytics_subsumed = ba_analytics_minor_courses.issubset(ds_major_courses)\n",
    "print(\"Is Business Analytics minor completely subsumed by Data Science major?\", ba_analytics_subsumed)"
   ]
  },
  {
   "cell_type": "markdown",
   "id": "d7d647e4-1d42-485b-8208-164a22f14322",
   "metadata": {},
   "source": [
    "### Problem 4 - Working with NumPy"
   ]
  },
  {
   "cell_type": "code",
   "execution_count": 8,
   "id": "111967c1-a66e-4f0f-b837-3b5a55e92b78",
   "metadata": {
    "tags": []
   },
   "outputs": [],
   "source": [
    "import numpy as np"
   ]
  },
  {
   "cell_type": "code",
   "execution_count": 9,
   "id": "fe6bc202-9fbd-47bf-9857-96d659e14ef9",
   "metadata": {
    "tags": []
   },
   "outputs": [
    {
     "name": "stdout",
     "output_type": "stream",
     "text": [
      "Array 1:\n",
      "[[ 8 14 16 10  8]\n",
      " [ 9 11 12  7  1]\n",
      " [17 19 15 15 15]\n",
      " [ 4  9 12 15 17]\n",
      " [12  0  7  0  5]]\n",
      "\n",
      "Array 2:\n",
      "[[ 5  0  5 18 13]\n",
      " [14 12 19 13  0]\n",
      " [16  1  3 20 11]\n",
      " [11 17  0  5 11]\n",
      " [ 5  1  6 14  1]]\n",
      "\n",
      "Matrix Product:\n",
      "[[ 642  362  402  808  398]\n",
      " [ 473  264  296  594  327]\n",
      " [ 831  513  581 1138  566]\n",
      " [ 588  392  329  742  366]\n",
      " [ 197   12  111  426  238]]\n",
      "\n",
      "Dot Product:\n",
      "2348\n"
     ]
    }
   ],
   "source": [
    "array1 = np.random.randint(0, 21, size=(5, 5))\n",
    "array2 = np.random.randint(0, 21, size=(5, 5))\n",
    "\n",
    "print(\"Array 1:\")\n",
    "print(array1)\n",
    "print(\"\\nArray 2:\")\n",
    "print(array2)\n",
    "\n",
    "matrix_product = np.matmul(array1, array2)\n",
    "dot_product = np.dot(array1.flatten(), array2.flatten())\n",
    "\n",
    "print(\"\\nMatrix Product:\")\n",
    "print(matrix_product)\n",
    "print(\"\\nDot Product:\")\n",
    "print(dot_product)"
   ]
  },
  {
   "cell_type": "code",
   "execution_count": 10,
   "id": "83aa16d7-1e09-4cf8-86b2-43274d5e2d04",
   "metadata": {
    "tags": []
   },
   "outputs": [
    {
     "name": "stdout",
     "output_type": "stream",
     "text": [
      "\n",
      "Determinant of Array 1: 78520.00000000013\n",
      "Inverse of Array 1:\n",
      "[[-0.11617422  0.07666836  0.04080489  0.00086602  0.04518594]\n",
      " [ 0.14214213 -0.14149261  0.08250127 -0.11123281 -0.06844116]\n",
      " [ 0.11146205  0.00866021 -0.09505858  0.01670912  0.04829343]\n",
      " [-0.28261589  0.27980132 -0.02417219  0.1486755  -0.03675497]\n",
      " [ 0.12277127 -0.19612837  0.03515028 -0.02547122  0.02394294]]\n",
      "\n",
      "Determinant of Array 2: 394345.0000000005\n",
      "Inverse of Array 2:\n",
      "[[-0.05978521  0.02492488  0.09640036 -0.01871711 -0.07730794]\n",
      " [-0.01684566 -0.01600882 -0.05652411  0.06797855  0.09299471]\n",
      " [ 0.06180882  0.07153381 -0.02051503 -0.04334022 -0.1011069 ]\n",
      " [-0.01040206 -0.03969113 -0.02165616  0.02075087  0.14518505]\n",
      " [ 0.09054762  0.01785746  0.00079879 -0.00486376 -0.13240437]]\n"
     ]
    }
   ],
   "source": [
    "det_array1 = np.linalg.det(array1)\n",
    "det_array2 = np.linalg.det(array2)\n",
    "inv_array1 = np.linalg.inv(array1)\n",
    "inv_array2 = np.linalg.inv(array2)\n",
    "\n",
    "print(\"\\nDeterminant of Array 1:\", det_array1)\n",
    "print(\"Inverse of Array 1:\")\n",
    "print(inv_array1)\n",
    "print(\"\\nDeterminant of Array 2:\", det_array2)\n",
    "print(\"Inverse of Array 2:\")\n",
    "print(inv_array2)"
   ]
  }
 ],
 "metadata": {
  "kernelspec": {
   "display_name": "Python 3 (ipykernel)",
   "language": "python",
   "name": "python3"
  },
  "language_info": {
   "codemirror_mode": {
    "name": "ipython",
    "version": 3
   },
   "file_extension": ".py",
   "mimetype": "text/x-python",
   "name": "python",
   "nbconvert_exporter": "python",
   "pygments_lexer": "ipython3",
   "version": "3.11.5"
  }
 },
 "nbformat": 4,
 "nbformat_minor": 5
}
